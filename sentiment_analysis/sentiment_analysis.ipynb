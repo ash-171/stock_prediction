{
 "cells": [
  {
   "cell_type": "code",
   "execution_count": 18,
   "metadata": {},
   "outputs": [],
   "source": [
    "import requests\n",
    "import os\n",
    "import pandas as pd\n",
    "import seaborn as sns\n",
    "import matplotlib.pyplot as plt\n",
    "from dotenv import load_dotenv\n",
    "import string\n",
    "import nltk\n",
    "from nltk.corpus import stopwords\n",
    "from nltk.tokenize import word_tokenize\n",
    "from nltk.stem import PorterStemmer\n",
    "from nltk.stem import WordNetLemmatizer\n",
    "from sklearn.feature_extraction.text import CountVectorizer, TfidfVectorizer\n",
    "from transformers import BertTokenizer, BertForSequenceClassification\n",
    "from transformers import pipeline"
   ]
  },
  {
   "cell_type": "code",
   "execution_count": 19,
   "metadata": {},
   "outputs": [
    {
     "data": {
      "text/plain": [
       "True"
      ]
     },
     "execution_count": 19,
     "metadata": {},
     "output_type": "execute_result"
    }
   ],
   "source": [
    "load_dotenv()"
   ]
  },
  {
   "cell_type": "code",
   "execution_count": 23,
   "metadata": {},
   "outputs": [
    {
     "data": {
      "text/html": [
       "<div>\n",
       "<style scoped>\n",
       "    .dataframe tbody tr th:only-of-type {\n",
       "        vertical-align: middle;\n",
       "    }\n",
       "\n",
       "    .dataframe tbody tr th {\n",
       "        vertical-align: top;\n",
       "    }\n",
       "\n",
       "    .dataframe thead th {\n",
       "        text-align: right;\n",
       "    }\n",
       "</style>\n",
       "<table border=\"1\" class=\"dataframe\">\n",
       "  <thead>\n",
       "    <tr style=\"text-align: right;\">\n",
       "      <th></th>\n",
       "      <th>title</th>\n",
       "      <th>description</th>\n",
       "      <th>source</th>\n",
       "      <th>published_at</th>\n",
       "      <th>url</th>\n",
       "    </tr>\n",
       "  </thead>\n",
       "  <tbody>\n",
       "    <tr>\n",
       "      <th>59</th>\n",
       "      <td>Google’s new AI will play video games with you...</td>\n",
       "      <td>Google DeepMind’s AI agent SIMA is learning ho...</td>\n",
       "      <td>{'id': 'the-verge', 'name': 'The Verge'}</td>\n",
       "      <td>2024-03-13 14:00:00+00:00</td>\n",
       "      <td>https://www.theverge.com/2024/3/13/24099024/go...</td>\n",
       "    </tr>\n",
       "    <tr>\n",
       "      <th>60</th>\n",
       "      <td>Nvidia could be worth $6 trillion if it follow...</td>\n",
       "      <td>Nvidia is already worth $2.3 trillion and form...</td>\n",
       "      <td>{'id': 'business-insider', 'name': 'Business I...</td>\n",
       "      <td>2024-03-13 12:33:17+00:00</td>\n",
       "      <td>https://www.businessinsider.com/nvidia-stock-p...</td>\n",
       "    </tr>\n",
       "    <tr>\n",
       "      <th>84</th>\n",
       "      <td>TikTok influencers fear their careers will be ...</td>\n",
       "      <td>TikTokers spoke to Business Insider about the ...</td>\n",
       "      <td>{'id': 'business-insider', 'name': 'Business I...</td>\n",
       "      <td>2024-03-12 16:57:16+00:00</td>\n",
       "      <td>https://www.businessinsider.com/tiktok-ban-inf...</td>\n",
       "    </tr>\n",
       "    <tr>\n",
       "      <th>65</th>\n",
       "      <td>The Morning After: Airbnb bans indoor cameras</td>\n",
       "      <td>Airbnb has announced a complete ban on indoor ...</td>\n",
       "      <td>{'id': None, 'name': 'Yahoo Entertainment'}</td>\n",
       "      <td>2024-03-12 11:15:36+00:00</td>\n",
       "      <td>https://consent.yahoo.com/v2/collectConsent?se...</td>\n",
       "    </tr>\n",
       "    <tr>\n",
       "      <th>83</th>\n",
       "      <td>British Airways is upgrading its long-haul fle...</td>\n",
       "      <td>British Airways is retrofitting more of its lo...</td>\n",
       "      <td>{'id': 'business-insider', 'name': 'Business I...</td>\n",
       "      <td>2024-03-12 09:00:01+00:00</td>\n",
       "      <td>https://www.businessinsider.com/british-airway...</td>\n",
       "    </tr>\n",
       "    <tr>\n",
       "      <th>...</th>\n",
       "      <td>...</td>\n",
       "      <td>...</td>\n",
       "      <td>...</td>\n",
       "      <td>...</td>\n",
       "      <td>...</td>\n",
       "    </tr>\n",
       "    <tr>\n",
       "      <th>81</th>\n",
       "      <td>The richest man you've never heard of isn't su...</td>\n",
       "      <td>Autry Stephens is one of the world's 100 riche...</td>\n",
       "      <td>{'id': 'business-insider', 'name': 'Business I...</td>\n",
       "      <td>2024-02-15 10:00:01+00:00</td>\n",
       "      <td>https://www.businessinsider.com/endeavor-energ...</td>\n",
       "    </tr>\n",
       "    <tr>\n",
       "      <th>38</th>\n",
       "      <td>A woman who quit her job to travel says she re...</td>\n",
       "      <td>In an article for CNBC, Helen Zhao wrote that ...</td>\n",
       "      <td>{'id': 'business-insider', 'name': 'Business I...</td>\n",
       "      <td>2024-02-15 05:53:25+00:00</td>\n",
       "      <td>https://www.businessinsider.com/woman-traveler...</td>\n",
       "    </tr>\n",
       "    <tr>\n",
       "      <th>54</th>\n",
       "      <td>SpaceX files to relocate to Texas after Elon M...</td>\n",
       "      <td>Elon Musk vowed to take Space X's business out...</td>\n",
       "      <td>{'id': 'business-insider', 'name': 'Business I...</td>\n",
       "      <td>2024-02-15 01:21:49+00:00</td>\n",
       "      <td>https://www.businessinsider.com/spacex-relocat...</td>\n",
       "    </tr>\n",
       "    <tr>\n",
       "      <th>27</th>\n",
       "      <td>Stability AI tries to stay ahead of the pack w...</td>\n",
       "      <td>Stability AI promises Stable Cascade generates...</td>\n",
       "      <td>{'id': 'the-verge', 'name': 'The Verge'}</td>\n",
       "      <td>2024-02-14 23:13:48+00:00</td>\n",
       "      <td>https://www.theverge.com/2024/2/14/24073253/st...</td>\n",
       "    </tr>\n",
       "    <tr>\n",
       "      <th>80</th>\n",
       "      <td>Tarek El Moussa says he doesn't know how to ma...</td>\n",
       "      <td>Ahead of the release of his book, \"Flip Your L...</td>\n",
       "      <td>{'id': 'business-insider', 'name': 'Business I...</td>\n",
       "      <td>2024-02-14 21:16:23+00:00</td>\n",
       "      <td>https://www.businessinsider.com/tarek-el-mouss...</td>\n",
       "    </tr>\n",
       "  </tbody>\n",
       "</table>\n",
       "<p>100 rows × 5 columns</p>\n",
       "</div>"
      ],
      "text/plain": [
       "                                                title  \\\n",
       "59  Google’s new AI will play video games with you...   \n",
       "60  Nvidia could be worth $6 trillion if it follow...   \n",
       "84  TikTok influencers fear their careers will be ...   \n",
       "65      The Morning After: Airbnb bans indoor cameras   \n",
       "83  British Airways is upgrading its long-haul fle...   \n",
       "..                                                ...   \n",
       "81  The richest man you've never heard of isn't su...   \n",
       "38  A woman who quit her job to travel says she re...   \n",
       "54  SpaceX files to relocate to Texas after Elon M...   \n",
       "27  Stability AI tries to stay ahead of the pack w...   \n",
       "80  Tarek El Moussa says he doesn't know how to ma...   \n",
       "\n",
       "                                          description  \\\n",
       "59  Google DeepMind’s AI agent SIMA is learning ho...   \n",
       "60  Nvidia is already worth $2.3 trillion and form...   \n",
       "84  TikTokers spoke to Business Insider about the ...   \n",
       "65  Airbnb has announced a complete ban on indoor ...   \n",
       "83  British Airways is retrofitting more of its lo...   \n",
       "..                                                ...   \n",
       "81  Autry Stephens is one of the world's 100 riche...   \n",
       "38  In an article for CNBC, Helen Zhao wrote that ...   \n",
       "54  Elon Musk vowed to take Space X's business out...   \n",
       "27  Stability AI promises Stable Cascade generates...   \n",
       "80  Ahead of the release of his book, \"Flip Your L...   \n",
       "\n",
       "                                               source  \\\n",
       "59           {'id': 'the-verge', 'name': 'The Verge'}   \n",
       "60  {'id': 'business-insider', 'name': 'Business I...   \n",
       "84  {'id': 'business-insider', 'name': 'Business I...   \n",
       "65        {'id': None, 'name': 'Yahoo Entertainment'}   \n",
       "83  {'id': 'business-insider', 'name': 'Business I...   \n",
       "..                                                ...   \n",
       "81  {'id': 'business-insider', 'name': 'Business I...   \n",
       "38  {'id': 'business-insider', 'name': 'Business I...   \n",
       "54  {'id': 'business-insider', 'name': 'Business I...   \n",
       "27           {'id': 'the-verge', 'name': 'The Verge'}   \n",
       "80  {'id': 'business-insider', 'name': 'Business I...   \n",
       "\n",
       "                published_at  \\\n",
       "59 2024-03-13 14:00:00+00:00   \n",
       "60 2024-03-13 12:33:17+00:00   \n",
       "84 2024-03-12 16:57:16+00:00   \n",
       "65 2024-03-12 11:15:36+00:00   \n",
       "83 2024-03-12 09:00:01+00:00   \n",
       "..                       ...   \n",
       "81 2024-02-15 10:00:01+00:00   \n",
       "38 2024-02-15 05:53:25+00:00   \n",
       "54 2024-02-15 01:21:49+00:00   \n",
       "27 2024-02-14 23:13:48+00:00   \n",
       "80 2024-02-14 21:16:23+00:00   \n",
       "\n",
       "                                                  url  \n",
       "59  https://www.theverge.com/2024/3/13/24099024/go...  \n",
       "60  https://www.businessinsider.com/nvidia-stock-p...  \n",
       "84  https://www.businessinsider.com/tiktok-ban-inf...  \n",
       "65  https://consent.yahoo.com/v2/collectConsent?se...  \n",
       "83  https://www.businessinsider.com/british-airway...  \n",
       "..                                                ...  \n",
       "81  https://www.businessinsider.com/endeavor-energ...  \n",
       "38  https://www.businessinsider.com/woman-traveler...  \n",
       "54  https://www.businessinsider.com/spacex-relocat...  \n",
       "27  https://www.theverge.com/2024/2/14/24073253/st...  \n",
       "80  https://www.businessinsider.com/tarek-el-mouss...  \n",
       "\n",
       "[100 rows x 5 columns]"
      ]
     },
     "execution_count": 23,
     "metadata": {},
     "output_type": "execute_result"
    }
   ],
   "source": [
    "def fetch_news(api_key, query, sources=None, language='en', page_size=100):\n",
    "    \"\"\"\n",
    "    Fetches news articles from the News API based on the given query and optional parameters.\n",
    "    \n",
    "    Parameters:\n",
    "    - api_key: Your News API key.\n",
    "    - query: The search query for news articles.\n",
    "    - sources: Optional. A comma-separated string of news sources to filter results from.\n",
    "    - language: Optional. The language for the news articles (default is 'en' for English).\n",
    "    - page_size: Optional. The number of articles to retrieve per request (maximum is 100).\n",
    "    \n",
    "    Returns:\n",
    "    - A list of dictionaries, each containing information about a news article.\n",
    "    \"\"\"\n",
    "    url = 'https://newsapi.org/v2/everything'\n",
    "    params = {\n",
    "        'apiKey': api_key,\n",
    "        'q': query,\n",
    "        'sources': sources,\n",
    "        'language': language,\n",
    "        'pageSize': page_size\n",
    "    }\n",
    "    \n",
    "    response = requests.get(url, params=params)\n",
    "    data = response.json()\n",
    "    \n",
    "    if response.status_code == 200:\n",
    "        articles = data.get('articles', [])\n",
    "        df = pd.DataFrame(articles)\n",
    "        # Extract relevant columns\n",
    "        df = df[['title', 'description', 'source', 'publishedAt', 'url']]\n",
    "        # Rename columns\n",
    "        df.columns = ['title', 'description', 'source', 'published_at', 'url']\n",
    "        # Convert published_at to datetime format\n",
    "        df['published_at'] = pd.to_datetime(df['published_at'])\n",
    "        return df\n",
    "    else:\n",
    "        print(\"Failed to fetch news:\", data.get('message', 'Unknown error'))\n",
    "        return pd.DataFrame()\n",
    "\n",
    "# Replace 'YOUR_API_KEY' with your actual News API key\n",
    "api_key = os.environ['API_KEY']\n",
    "query = 'business OR finance'  # You can adjust the query as needed\n",
    "sources = None  # You can specify specific news sources if desired\n",
    "\n",
    "# Fetch news articles as a DataFrame\n",
    "news_df = fetch_news(api_key, query, sources)\n",
    "\n",
    "# Display the DataFrame\n",
    "news_df.sort_values(by=['published_at'], ascending=False)\n"
   ]
  },
  {
   "cell_type": "code",
   "execution_count": 4,
   "metadata": {},
   "outputs": [
    {
     "data": {
      "text/plain": [
       "(100, 5)"
      ]
     },
     "execution_count": 4,
     "metadata": {},
     "output_type": "execute_result"
    }
   ],
   "source": [
    "news_df.shape"
   ]
  },
  {
   "cell_type": "code",
   "execution_count": 5,
   "metadata": {},
   "outputs": [
    {
     "name": "stdout",
     "output_type": "stream",
     "text": [
      "<class 'pandas.core.frame.DataFrame'>\n",
      "RangeIndex: 100 entries, 0 to 99\n",
      "Data columns (total 5 columns):\n",
      " #   Column        Non-Null Count  Dtype              \n",
      "---  ------        --------------  -----              \n",
      " 0   title         100 non-null    object             \n",
      " 1   description   99 non-null     object             \n",
      " 2   source        100 non-null    object             \n",
      " 3   published_at  100 non-null    datetime64[ns, UTC]\n",
      " 4   url           100 non-null    object             \n",
      "dtypes: datetime64[ns, UTC](1), object(4)\n",
      "memory usage: 4.0+ KB\n"
     ]
    }
   ],
   "source": [
    "news_df.info()"
   ]
  },
  {
   "cell_type": "code",
   "execution_count": 6,
   "metadata": {},
   "outputs": [],
   "source": [
    "news_df.dropna(inplace=True)"
   ]
  },
  {
   "cell_type": "code",
   "execution_count": 7,
   "metadata": {},
   "outputs": [],
   "source": [
    "# Distribution of post titles and selftexts lengths\n",
    "news_df['title_length'] = news_df['title'].apply(len)\n",
    "news_df['description_length'] = news_df['description'].apply(len)"
   ]
  },
  {
   "cell_type": "code",
   "execution_count": 8,
   "metadata": {},
   "outputs": [
    {
     "data": {
      "image/png": "[encoded data removed]",
      "text/plain": [
       "<Figure size 1080x432 with 2 Axes>"
      ]
     },
     "metadata": {
      "needs_background": "light"
     },
     "output_type": "display_data"
    }
   ],
   "source": [
    "fig, axes = plt.subplots(1, 2, figsize=(15, 6))\n",
    "\n",
    "# Plot the distribution of title length\n",
    "sns.histplot(news_df['title_length'], bins=30, kde=True, color='blue', ax=axes[0])\n",
    "axes[0].set_title('Distribution of Title Length')\n",
    "axes[0].set_xlabel('Length')\n",
    "axes[0].set_ylabel('Frequency')\n",
    "\n",
    "# Plot the distribution of selftext length\n",
    "sns.histplot(news_df['description_length'], bins=30, kde=True, color='green', ax=axes[1])\n",
    "axes[1].set_title('Distribution of Selftext Length')\n",
    "axes[1].set_xlabel('Length')\n",
    "axes[1].set_ylabel('Frequency')\n",
    "    \n",
    "plt.tight_layout()\n",
    "plt.show()"
   ]
  },
  {
   "cell_type": "code",
   "execution_count": 9,
   "metadata": {},
   "outputs": [
    {
     "name": "stderr",
     "output_type": "stream",
     "text": [
      "[nltk_data] Downloading package stopwords to\n",
      "[nltk_data]     C:\\Users\\User\\AppData\\Roaming\\nltk_data...\n",
      "[nltk_data]   Package stopwords is already up-to-date!\n"
     ]
    },
    {
     "data": {
      "text/plain": [
       "True"
      ]
     },
     "execution_count": 9,
     "metadata": {},
     "output_type": "execute_result"
    }
   ],
   "source": [
    "nltk.download('stopwords')"
   ]
  },
  {
   "cell_type": "code",
   "execution_count": 10,
   "metadata": {},
   "outputs": [],
   "source": [
    "stop_words = set(stopwords.words('english'))"
   ]
  },
  {
   "cell_type": "code",
   "execution_count": 11,
   "metadata": {},
   "outputs": [],
   "source": [
    "def preprocess_text(text):\n",
    "    # Tokenization\n",
    "    tokens = word_tokenize(text)\n",
    "    # Convert to lowercase\n",
    "    tokens = [word.lower() for word in tokens]\n",
    "    # Removing Punctuation\n",
    "    table = str.maketrans('', '', string.punctuation)\n",
    "    stripped = [word.translate(table) for word in tokens]\n",
    "    # Removing Stopwords\n",
    "    words = [word for word in stripped if word not in stop_words]\n",
    "    # Lemmatization\n",
    "    lemmatizer = WordNetLemmatizer()\n",
    "    lemmatized_words = [lemmatizer.lemmatize(word) for word in words]\n",
    "    # Join the lemmatized words back into a string\n",
    "    processed_text = ' '.join(lemmatized_words)\n",
    "    return processed_text"
   ]
  },
  {
   "cell_type": "code",
   "execution_count": 12,
   "metadata": {},
   "outputs": [
    {
     "name": "stdout",
     "output_type": "stream",
     "text": [
      "Preprocessing completed and saved to: data_preprocessed.json\n"
     ]
    }
   ],
   "source": [
    "news_df['title'] = news_df['title'].apply(preprocess_text)\n",
    "news_df['description'] = news_df['description'].apply(preprocess_text)\n",
    "\n",
    "# Save the preprocessed DataFrame to a new JSON file\n",
    "preprocessed_file_path = \"data_preprocessed.json\"\n",
    "news_df.to_json(preprocessed_file_path, orient='records')\n",
    "\n",
    "print(\"Preprocessing completed and saved to:\", preprocessed_file_path)"
   ]
  },
  {
   "cell_type": "code",
   "execution_count": 13,
   "metadata": {},
   "outputs": [],
   "source": [
    "df2 = pd.read_json('data_preprocessed.json')"
   ]
  },
  {
   "cell_type": "code",
   "execution_count": 14,
   "metadata": {},
   "outputs": [
    {
     "data": {
      "text/html": [
       "<div>\n",
       "<style scoped>\n",
       "    .dataframe tbody tr th:only-of-type {\n",
       "        vertical-align: middle;\n",
       "    }\n",
       "\n",
       "    .dataframe tbody tr th {\n",
       "        vertical-align: top;\n",
       "    }\n",
       "\n",
       "    .dataframe thead th {\n",
       "        text-align: right;\n",
       "    }\n",
       "</style>\n",
       "<table border=\"1\" class=\"dataframe\">\n",
       "  <thead>\n",
       "    <tr style=\"text-align: right;\">\n",
       "      <th></th>\n",
       "      <th>title</th>\n",
       "      <th>description</th>\n",
       "      <th>source</th>\n",
       "      <th>published_at</th>\n",
       "      <th>url</th>\n",
       "      <th>title_length</th>\n",
       "      <th>description_length</th>\n",
       "    </tr>\n",
       "  </thead>\n",
       "  <tbody>\n",
       "    <tr>\n",
       "      <th>0</th>\n",
       "      <td>much netflix pay employee job ranging administ...</td>\n",
       "      <td>much netflix pay employee software engineering...</td>\n",
       "      <td>{'id': 'business-insider', 'name': 'Business I...</td>\n",
       "      <td>2024-02-26 16:56:55</td>\n",
       "      <td>https://www.businessinsider.com/how-much-netfl...</td>\n",
       "      <td>115</td>\n",
       "      <td>145</td>\n",
       "    </tr>\n",
       "    <tr>\n",
       "      <th>1</th>\n",
       "      <td>tech still ’ enough care environment</td>\n",
       "      <td>priscilla chombakinywa  cto greenpeace  say te...</td>\n",
       "      <td>{'id': 'wired', 'name': 'Wired'}</td>\n",
       "      <td>2024-02-19 10:00:00</td>\n",
       "      <td>https://www.wired.com/story/tech-environment-g...</td>\n",
       "      <td>57</td>\n",
       "      <td>146</td>\n",
       "    </tr>\n",
       "    <tr>\n",
       "      <th>2</th>\n",
       "      <td>meta partner lg ‘ expedite extended reality ve...</td>\n",
       "      <td>meta lg partnered “ expedite ” former company ...</td>\n",
       "      <td>{'id': 'engadget', 'name': 'Engadget'}</td>\n",
       "      <td>2024-02-29 16:32:51</td>\n",
       "      <td>https://www.engadget.com/meta-partners-up-with...</td>\n",
       "      <td>68</td>\n",
       "      <td>260</td>\n",
       "    </tr>\n",
       "    <tr>\n",
       "      <th>3</th>\n",
       "      <td>microsoft ’ ‘ copilot finance ’ aim revolution...</td>\n",
       "      <td>microsoft unveils aipowered finance assistant ...</td>\n",
       "      <td>{'id': None, 'name': 'VentureBeat'}</td>\n",
       "      <td>2024-02-29 16:00:00</td>\n",
       "      <td>https://venturebeat.com/ai/microsofts-copilot-...</td>\n",
       "      <td>79</td>\n",
       "      <td>176</td>\n",
       "    </tr>\n",
       "    <tr>\n",
       "      <th>4</th>\n",
       "      <td>malware gambling website finance crime money</td>\n",
       "      <td>creation distribution gaming website preinfect...</td>\n",
       "      <td>{'id': None, 'name': 'ReadWrite'}</td>\n",
       "      <td>2024-02-15 21:45:12</td>\n",
       "      <td>https://readwrite.com/malware-on-gambling-webs...</td>\n",
       "      <td>63</td>\n",
       "      <td>249</td>\n",
       "    </tr>\n",
       "    <tr>\n",
       "      <th>...</th>\n",
       "      <td>...</td>\n",
       "      <td>...</td>\n",
       "      <td>...</td>\n",
       "      <td>...</td>\n",
       "      <td>...</td>\n",
       "      <td>...</td>\n",
       "      <td>...</td>\n",
       "    </tr>\n",
       "    <tr>\n",
       "      <th>94</th>\n",
       "      <td>design apple car reportedly looked like volksw...</td>\n",
       "      <td>several design apple car alternately took insp...</td>\n",
       "      <td>{'id': 'business-insider', 'name': 'Business I...</td>\n",
       "      <td>2024-03-11 17:28:15</td>\n",
       "      <td>https://www.businessinsider.com/apple-car-desi...</td>\n",
       "      <td>72</td>\n",
       "      <td>146</td>\n",
       "    </tr>\n",
       "    <tr>\n",
       "      <th>95</th>\n",
       "      <td>google duet ai business called gemini</td>\n",
       "      <td>google nt best track record naming product  es...</td>\n",
       "      <td>{'id': 'engadget', 'name': 'Engadget'}</td>\n",
       "      <td>2024-02-21 15:01:15</td>\n",
       "      <td>https://www.engadget.com/googles-duet-ai-for-b...</td>\n",
       "      <td>56</td>\n",
       "      <td>260</td>\n",
       "    </tr>\n",
       "    <tr>\n",
       "      <th>96</th>\n",
       "      <td>panera exempted california fastfood wage incre...</td>\n",
       "      <td>chain sell bread nt follow new law fast food r...</td>\n",
       "      <td>{'id': 'business-insider', 'name': 'Business I...</td>\n",
       "      <td>2024-03-01 02:33:25</td>\n",
       "      <td>https://www.businessinsider.com/newsom-donor-p...</td>\n",
       "      <td>121</td>\n",
       "      <td>151</td>\n",
       "    </tr>\n",
       "    <tr>\n",
       "      <th>97</th>\n",
       "      <td>intel ceo betting much chip manufacturing  pat...</td>\n",
       "      <td>intel ceo pat gelsinger today launched intel f...</td>\n",
       "      <td>{'id': None, 'name': 'VentureBeat'}</td>\n",
       "      <td>2024-02-21 16:30:00</td>\n",
       "      <td>https://venturebeat.com/ai/why-intel-ceo-is-be...</td>\n",
       "      <td>80</td>\n",
       "      <td>119</td>\n",
       "    </tr>\n",
       "    <tr>\n",
       "      <th>98</th>\n",
       "      <td>trump plan end ukraine war totally cut funding...</td>\n",
       "      <td>former president donald trump solution end ukr...</td>\n",
       "      <td>{'id': 'business-insider', 'name': 'Business I...</td>\n",
       "      <td>2024-03-11 13:03:11</td>\n",
       "      <td>https://www.businessinsider.com/trump-will-not...</td>\n",
       "      <td>95</td>\n",
       "      <td>150</td>\n",
       "    </tr>\n",
       "  </tbody>\n",
       "</table>\n",
       "<p>99 rows × 7 columns</p>\n",
       "</div>"
      ],
      "text/plain": [
       "                                                title  \\\n",
       "0   much netflix pay employee job ranging administ...   \n",
       "1                tech still ’ enough care environment   \n",
       "2   meta partner lg ‘ expedite extended reality ve...   \n",
       "3   microsoft ’ ‘ copilot finance ’ aim revolution...   \n",
       "4        malware gambling website finance crime money   \n",
       "..                                                ...   \n",
       "94  design apple car reportedly looked like volksw...   \n",
       "95              google duet ai business called gemini   \n",
       "96  panera exempted california fastfood wage incre...   \n",
       "97  intel ceo betting much chip manufacturing  pat...   \n",
       "98  trump plan end ukraine war totally cut funding...   \n",
       "\n",
       "                                          description  \\\n",
       "0   much netflix pay employee software engineering...   \n",
       "1   priscilla chombakinywa  cto greenpeace  say te...   \n",
       "2   meta lg partnered “ expedite ” former company ...   \n",
       "3   microsoft unveils aipowered finance assistant ...   \n",
       "4   creation distribution gaming website preinfect...   \n",
       "..                                                ...   \n",
       "94  several design apple car alternately took insp...   \n",
       "95  google nt best track record naming product  es...   \n",
       "96  chain sell bread nt follow new law fast food r...   \n",
       "97  intel ceo pat gelsinger today launched intel f...   \n",
       "98  former president donald trump solution end ukr...   \n",
       "\n",
       "                                               source        published_at  \\\n",
       "0   {'id': 'business-insider', 'name': 'Business I... 2024-02-26 16:56:55   \n",
       "1                    {'id': 'wired', 'name': 'Wired'} 2024-02-19 10:00:00   \n",
       "2              {'id': 'engadget', 'name': 'Engadget'} 2024-02-29 16:32:51   \n",
       "3                 {'id': None, 'name': 'VentureBeat'} 2024-02-29 16:00:00   \n",
       "4                   {'id': None, 'name': 'ReadWrite'} 2024-02-15 21:45:12   \n",
       "..                                                ...                 ...   \n",
       "94  {'id': 'business-insider', 'name': 'Business I... 2024-03-11 17:28:15   \n",
       "95             {'id': 'engadget', 'name': 'Engadget'} 2024-02-21 15:01:15   \n",
       "96  {'id': 'business-insider', 'name': 'Business I... 2024-03-01 02:33:25   \n",
       "97                {'id': None, 'name': 'VentureBeat'} 2024-02-21 16:30:00   \n",
       "98  {'id': 'business-insider', 'name': 'Business I... 2024-03-11 13:03:11   \n",
       "\n",
       "                                                  url  title_length  \\\n",
       "0   https://www.businessinsider.com/how-much-netfl...           115   \n",
       "1   https://www.wired.com/story/tech-environment-g...            57   \n",
       "2   https://www.engadget.com/meta-partners-up-with...            68   \n",
       "3   https://venturebeat.com/ai/microsofts-copilot-...            79   \n",
       "4   https://readwrite.com/malware-on-gambling-webs...            63   \n",
       "..                                                ...           ...   \n",
       "94  https://www.businessinsider.com/apple-car-desi...            72   \n",
       "95  https://www.engadget.com/googles-duet-ai-for-b...            56   \n",
       "96  https://www.businessinsider.com/newsom-donor-p...           121   \n",
       "97  https://venturebeat.com/ai/why-intel-ceo-is-be...            80   \n",
       "98  https://www.businessinsider.com/trump-will-not...            95   \n",
       "\n",
       "    description_length  \n",
       "0                  145  \n",
       "1                  146  \n",
       "2                  260  \n",
       "3                  176  \n",
       "4                  249  \n",
       "..                 ...  \n",
       "94                 146  \n",
       "95                 260  \n",
       "96                 151  \n",
       "97                 119  \n",
       "98                 150  \n",
       "\n",
       "[99 rows x 7 columns]"
      ]
     },
     "execution_count": 14,
     "metadata": {},
     "output_type": "execute_result"
    }
   ],
   "source": [
    "df2"
   ]
  },
  {
   "cell_type": "code",
   "execution_count": 15,
   "metadata": {},
   "outputs": [
    {
     "name": "stderr",
     "output_type": "stream",
     "text": [
      "C:\\Users\\User\\AppData\\Local\\Temp\\ipykernel_25244\\3297459036.py:19: FutureWarning: \n",
      "\n",
      "Passing `palette` without assigning `hue` is deprecated and will be removed in v0.14.0. Assign the `y` variable to `hue` and set `legend=False` for the same effect.\n",
      "\n",
      "  sns.barplot(x='Frequency', y='Word', data=word_freq_df.head(20), palette='viridis')\n"
     ]
    },
    {
     "data": {
      "image/png": "[encoded data removed]",
      "text/plain": [
       "<Figure size 864x432 with 1 Axes>"
      ]
     },
     "metadata": {
      "needs_background": "light"
     },
     "output_type": "display_data"
    }
   ],
   "source": [
    "from collections import Counter\n",
    "# Combine all preprocessed text into a single string\n",
    "all_text = ' '.join(df2['title'].values + ' ' + df2['description'].values)\n",
    "\n",
    "# Tokenize the combined text\n",
    "tokens = word_tokenize(all_text)\n",
    "\n",
    "# Count the frequency of each word\n",
    "word_freq = Counter(tokens)\n",
    "\n",
    "# Convert the word frequency to a DataFrame\n",
    "word_freq_df = pd.DataFrame(list(word_freq.items()), columns=['Word', 'Frequency'])\n",
    "\n",
    "# Sort the DataFrame by frequency in descending order\n",
    "word_freq_df = word_freq_df.sort_values(by='Frequency', ascending=False)\n",
    "\n",
    "# Plot the top 20 most common words\n",
    "plt.figure(figsize=(12, 6))\n",
    "sns.barplot(x='Frequency', y='Word', data=word_freq_df.head(20), palette='viridis')\n",
    "plt.title('Top 20 Most Common Words in Preprocessed Text')\n",
    "plt.xlabel('Frequency')\n",
    "plt.ylabel('Word')\n",
    "plt.show()"
   ]
  },
  {
   "cell_type": "code",
   "execution_count": 16,
   "metadata": {},
   "outputs": [
    {
     "name": "stdout",
     "output_type": "stream",
     "text": [
      "WARNING:tensorflow:From c:\\Users\\User\\anaconda3\\lib\\site-packages\\keras\\src\\backend.py:873: The name tf.get_default_graph is deprecated. Please use tf.compat.v1.get_default_graph instead.\n",
      "\n"
     ]
    },
    {
     "name": "stderr",
     "output_type": "stream",
     "text": [
      "All PyTorch model weights were used when initializing TFBertForSequenceClassification.\n",
      "\n",
      "Some weights or buffers of the TF 2.0 model TFBertForSequenceClassification were not initialized from the PyTorch model and are newly initialized: ['classifier.weight', 'classifier.bias']\n",
      "You should probably TRAIN this model on a down-stream task to be able to use it for predictions and inference.\n"
     ]
    },
    {
     "name": "stdout",
     "output_type": "stream",
     "text": [
      "There are positive news for the market:\n",
      "25\n"
     ]
    }
   ],
   "source": [
    "from transformers import pipeline, BertTokenizer, TFBertForSequenceClassification\n",
    "\n",
    "# Load pre-trained BERT tokenizer and model\n",
    "tokenizer = BertTokenizer.from_pretrained('bert-base-uncased')\n",
    "model = TFBertForSequenceClassification.from_pretrained('bert-base-uncased')\n",
    "\n",
    "# Define sentiment analysis pipeline\n",
    "sentiment_analysis = pipeline(\"sentiment-analysis\", model=model, tokenizer=tokenizer)\n",
    "\n",
    "# Function to perform sentiment analysis for combined text\n",
    "def analyze_sentiment_for_text(text):\n",
    "    \"\"\"\n",
    "    Analyzes the sentiment of the given text using a pre-trained BERT model for sequence classification.\n",
    "    \n",
    "    Parameters:\n",
    "    - text: The combined text (title + description) for which sentiment analysis is to be performed.\n",
    "    \n",
    "    Returns:\n",
    "    - A dictionary containing the sentiment analysis results:\n",
    "        - 'label': The predicted sentiment label ('positive', 'negative', 'neutral').\n",
    "        - 'score': The confidence score assigned to the predicted sentiment label.\n",
    "    \"\"\"\n",
    "    # Perform sentiment analysis\n",
    "    result = sentiment_analysis(text)\n",
    "    \n",
    "    return {'sentiment_label': result[0]['label'], 'sentiment_score': result[0]['score']}\n",
    "\n",
    "# Combine title and description for each row and perform sentiment analysis\n",
    "all_text_sentiment = []\n",
    "for idx, row in df2.iterrows():\n",
    "    combined_text = row['title'] + ' ' + row['description']\n",
    "    sentiment_result = analyze_sentiment_for_text(combined_text)\n",
    "    all_text_sentiment.append(sentiment_result)\n",
    "\n",
    "# Add sentiment analysis results to the DataFrame\n",
    "df2['sentiment_label'] = [res['sentiment_label'] for res in all_text_sentiment]\n",
    "df2['sentiment_score'] = [res['sentiment_score'] for res in all_text_sentiment]\n",
    "\n",
    "# Check if sentiment is positive for market\n",
    "positive_news_for_market = df2[df2['sentiment_label'] == 'LABEL_1']\n",
    "if not positive_news_for_market.empty:\n",
    "    print(\"There are positive news for the market:\")\n",
    "    print(len(positive_news_for_market))\n",
    "    positive_news_for_market\n",
    "else:\n",
    "    print(\"No positive news for the market.\")\n"
   ]
  },
  {
   "cell_type": "markdown",
   "metadata": {},
   "source": [
    "We can also use https://www.alphavantage.co/query?function=NEWS_SENTIMENT&tickers=RS&apikey=XXXXXXXXXXX API to get relevant scores after sentiment analysis as follows:"
   ]
  },
  {
   "cell_type": "markdown",
   "metadata": {},
   "source": [
    "<img src=\"Screenshot 2024-03-17 181914.png\">"
   ]
  },
  {
   "cell_type": "code",
   "execution_count": null,
   "metadata": {},
   "outputs": [],
   "source": []
  }
 ],
 "metadata": {
  "kernelspec": {
   "display_name": "base",
   "language": "python",
   "name": "python3"
  },
  "language_info": {
   "codemirror_mode": {
    "name": "ipython",
    "version": 3
   },
   "file_extension": ".py",
   "mimetype": "text/x-python",
   "name": "python",
   "nbconvert_exporter": "python",
   "pygments_lexer": "ipython3",
   "version": "3.9.18"
  }
 },
 "nbformat": 4,
 "nbformat_minor": 2
}
